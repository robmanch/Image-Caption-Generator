{
 "cells": [
  {
   "cell_type": "code",
   "execution_count": 4,
   "id": "23fad12a",
   "metadata": {},
   "outputs": [
    {
     "name": "stdout",
     "output_type": "stream",
     "text": [
      " * Serving Flask app '__main__' (lazy loading)\n",
      " * Environment: production\n",
      "\u001b[31m   WARNING: This is a development server. Do not use it in a production deployment.\u001b[0m\n",
      "\u001b[2m   Use a production WSGI server instead.\u001b[0m\n",
      " * Debug mode: off\n"
     ]
    },
    {
     "name": "stderr",
     "output_type": "stream",
     "text": [
      " * Running on all addresses.\n",
      "   WARNING: This is a development server. Do not use it in a production deployment.\n",
      " * Running on http://192.168.0.13:8080/ (Press CTRL+C to quit)\n",
      "192.168.0.13 - - [02/Feb/2022 15:36:24] \"GET / HTTP/1.1\" 200 -\n",
      "192.168.0.13 - - [02/Feb/2022 15:36:24] \"GET /static/css/style.css HTTP/1.1\" 304 -\n"
     ]
    },
    {
     "name": "stdout",
     "output_type": "stream",
     "text": [
      "<class 'gtts.tts.gTTS'>\n"
     ]
    },
    {
     "name": "stderr",
     "output_type": "stream",
     "text": [
      "192.168.0.13 - - [02/Feb/2022 15:36:35] \"POST /predict HTTP/1.1\" 200 -\n",
      "192.168.0.13 - - [02/Feb/2022 15:36:35] \"GET /static/css/style.css HTTP/1.1\" 304 -\n",
      "192.168.0.13 - - [02/Feb/2022 15:36:36] \"GET /static/test_img.jpg HTTP/1.1\" 200 -\n",
      "192.168.0.13 - - [02/Feb/2022 15:36:36] \"GET /static/speech.mp3 HTTP/1.1\" 206 -\n"
     ]
    },
    {
     "name": "stdout",
     "output_type": "stream",
     "text": [
      "<class 'gtts.tts.gTTS'>\n"
     ]
    },
    {
     "name": "stderr",
     "output_type": "stream",
     "text": [
      "192.168.0.13 - - [02/Feb/2022 15:36:48] \"POST /predict HTTP/1.1\" 200 -\n",
      "192.168.0.13 - - [02/Feb/2022 15:36:48] \"GET /static/css/style.css HTTP/1.1\" 304 -\n",
      "192.168.0.13 - - [02/Feb/2022 15:36:48] \"GET /static/test_img.jpg HTTP/1.1\" 200 -\n",
      "192.168.0.13 - - [02/Feb/2022 15:36:53] \"GET /favicon.ico HTTP/1.1\" 404 -\n"
     ]
    },
    {
     "name": "stdout",
     "output_type": "stream",
     "text": [
      "<class 'gtts.tts.gTTS'>\n"
     ]
    },
    {
     "name": "stderr",
     "output_type": "stream",
     "text": [
      "192.168.0.13 - - [02/Feb/2022 15:37:12] \"POST /predict HTTP/1.1\" 200 -\n",
      "192.168.0.13 - - [02/Feb/2022 15:37:12] \"GET /static/css/style.css HTTP/1.1\" 304 -\n",
      "192.168.0.13 - - [02/Feb/2022 15:37:13] \"GET /static/test_img.jpg HTTP/1.1\" 200 -\n",
      "192.168.0.13 - - [02/Feb/2022 15:37:13] \"GET /static/speech.mp3 HTTP/1.1\" 206 -\n",
      "192.168.0.13 - - [02/Feb/2022 15:37:15] \"GET / HTTP/1.1\" 200 -\n",
      "192.168.0.13 - - [02/Feb/2022 15:37:15] \"GET /static/css/style.css HTTP/1.1\" 304 -\n"
     ]
    },
    {
     "name": "stdout",
     "output_type": "stream",
     "text": [
      "<class 'gtts.tts.gTTS'>\n"
     ]
    },
    {
     "name": "stderr",
     "output_type": "stream",
     "text": [
      "192.168.0.13 - - [02/Feb/2022 15:37:23] \"POST /predict HTTP/1.1\" 200 -\n",
      "192.168.0.13 - - [02/Feb/2022 15:37:23] \"GET /static/css/style.css HTTP/1.1\" 304 -\n",
      "192.168.0.13 - - [02/Feb/2022 15:37:23] \"GET /static/test_img.jpg HTTP/1.1\" 200 -\n",
      "192.168.0.13 - - [02/Feb/2022 15:37:24] \"GET /favicon.ico HTTP/1.1\" 404 -\n",
      "192.168.0.13 - - [02/Feb/2022 15:38:44] \"GET / HTTP/1.1\" 200 -\n",
      "192.168.0.13 - - [02/Feb/2022 15:38:44] \"GET /static/css/style.css HTTP/1.1\" 304 -\n"
     ]
    },
    {
     "name": "stdout",
     "output_type": "stream",
     "text": [
      "<class 'gtts.tts.gTTS'>\n"
     ]
    },
    {
     "name": "stderr",
     "output_type": "stream",
     "text": [
      "192.168.0.13 - - [02/Feb/2022 15:38:51] \"POST /predict HTTP/1.1\" 200 -\n",
      "192.168.0.13 - - [02/Feb/2022 15:38:51] \"GET /static/css/style.css HTTP/1.1\" 304 -\n",
      "192.168.0.13 - - [02/Feb/2022 15:38:51] \"GET /static/test_img.jpg HTTP/1.1\" 200 -\n",
      "192.168.0.13 - - [02/Feb/2022 15:38:51] \"GET /static/speech.mp3 HTTP/1.1\" 206 -\n"
     ]
    },
    {
     "name": "stdout",
     "output_type": "stream",
     "text": [
      "<class 'gtts.tts.gTTS'>\n"
     ]
    },
    {
     "name": "stderr",
     "output_type": "stream",
     "text": [
      "192.168.0.13 - - [02/Feb/2022 15:40:16] \"POST /predict HTTP/1.1\" 200 -\n",
      "192.168.0.13 - - [02/Feb/2022 15:40:16] \"GET /static/css/style.css HTTP/1.1\" 304 -\n",
      "192.168.0.13 - - [02/Feb/2022 15:40:16] \"GET /static/test_img.jpg HTTP/1.1\" 200 -\n",
      "192.168.0.13 - - [02/Feb/2022 15:40:16] \"GET /static/speech.mp3 HTTP/1.1\" 206 -\n"
     ]
    },
    {
     "name": "stdout",
     "output_type": "stream",
     "text": [
      "<class 'gtts.tts.gTTS'>\n"
     ]
    },
    {
     "name": "stderr",
     "output_type": "stream",
     "text": [
      "192.168.0.13 - - [02/Feb/2022 15:40:56] \"POST /predict HTTP/1.1\" 200 -\n",
      "192.168.0.13 - - [02/Feb/2022 15:40:56] \"GET /static/css/style.css HTTP/1.1\" 304 -\n",
      "192.168.0.13 - - [02/Feb/2022 15:40:56] \"GET /static/test_img.jpg HTTP/1.1\" 200 -\n",
      "192.168.0.13 - - [02/Feb/2022 15:40:56] \"GET /static/speech.mp3 HTTP/1.1\" 206 -\n"
     ]
    }
   ],
   "source": [
    "# -*- coding: utf-8 -*-\n",
    "\"\"\"\n",
    "Created on Thu Jan 27 21:38:18 2022\n",
    "\n",
    "@author: Robin\n",
    "\"\"\"\n",
    "\n",
    "import numpy as np\n",
    "import pickle\n",
    "import pandas as pd\n",
    "from flask import Flask, request\n",
    "from flask import Flask, request, jsonify, render_template\n",
    "from keras.models import load_model\n",
    "import predictionlib\n",
    "from base64 import b64encode\n",
    "from PIL import Image\n",
    "import io\n",
    "import os\n",
    "from gtts import gTTS\n",
    "import IPython\n",
    "\n",
    "app=Flask(__name__)\n",
    "model = load_model('./static/model_5.h5')\n",
    "idx_word_dic = pickle.load(open('./static/idx_word_dic.pkl',\"rb\"))\n",
    "tokenizer = pickle.load(open('./static/tokenizer.pkl', 'rb'))\n",
    "max_length = pickle.load(open('./static/max_length.pkl', 'rb'))\n",
    "\n",
    "@app.route('/')\n",
    "def home():\n",
    "    return render_template('index.html')\n",
    "\n",
    "\n",
    "\n",
    "@app.route('/predict',methods=['POST'])\n",
    "def predict():\n",
    "    '''\n",
    "    For rendering results on HTML GUI\n",
    "    '''\n",
    "    f = request.files['file']\n",
    "    content = f.read()\n",
    "\n",
    "    img = Image.open(io.BytesIO(content))\n",
    "    if img.mode != 'RGB':\n",
    "        img = img.convert('RGB')\n",
    "    img.resize((450, 450), Image.NEAREST).save('./static/test_img.jpg') #to show in browser\n",
    "    target_size = (224, 224)\n",
    "    img = img.resize(target_size, Image.NEAREST)\n",
    "    \n",
    "#     print(max_length)\n",
    "    caption = predictionlib.generate_captions(model, img, tokenizer, idx_word_dic, max_length)\n",
    "    \n",
    "    speech = gTTS(text = caption, lang = 'en', slow = False)\n",
    "#     print(type(speech))\n",
    "    speech.save(r'./static/speech.mp3')\n",
    "    \n",
    "    \n",
    "#     IPython.display.display(IPython.display.Audio('speech_1.mp3'))\n",
    "\n",
    "    \n",
    "    return render_template('results.html', result='Predicted Caption: {}'.format(caption))\n",
    "    \n",
    "    \n",
    "    \n",
    "\n",
    "\n",
    "if __name__=='__main__':\n",
    "    app.run(host='0.0.0.0', port=8080)"
   ]
  },
  {
   "cell_type": "code",
   "execution_count": null,
   "id": "49c4dc6c",
   "metadata": {},
   "outputs": [],
   "source": []
  }
 ],
 "metadata": {
  "kernelspec": {
   "display_name": "image_caption",
   "language": "python",
   "name": "image_caption"
  },
  "language_info": {
   "codemirror_mode": {
    "name": "ipython",
    "version": 3
   },
   "file_extension": ".py",
   "mimetype": "text/x-python",
   "name": "python",
   "nbconvert_exporter": "python",
   "pygments_lexer": "ipython3",
   "version": "3.9.7"
  }
 },
 "nbformat": 4,
 "nbformat_minor": 5
}
