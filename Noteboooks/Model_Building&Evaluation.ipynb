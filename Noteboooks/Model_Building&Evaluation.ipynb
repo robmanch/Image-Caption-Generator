{
 "cells": [
  {
   "cell_type": "code",
   "execution_count": 1,
   "id": "d374cd0e",
   "metadata": {},
   "outputs": [],
   "source": [
    "import pickle\n",
    "import numpy as np\n",
    "import matplotlib.pyplot as plt\n",
    "from tensorflow.keras.utils import plot_model\n",
    "from tensorflow.keras.models import Model\n",
    "from tensorflow.keras.layers import Input\n",
    "from tensorflow.keras.layers import Dense, LSTM,Embedding, Dropout\n",
    "from keras.layers.merge import add\n",
    "from keras.callbacks import ModelCheckpoint\n",
    "from keras.preprocessing.sequence import pad_sequences\n",
    "from tensorflow.keras.utils import to_categorical\n",
    "from keras.models import load_model\n",
    "from nltk.translate.bleu_score import corpus_bleu"
   ]
  },
  {
   "cell_type": "code",
   "execution_count": 2,
   "id": "04fbe56b",
   "metadata": {},
   "outputs": [],
   "source": [
    "from tensorflow.keras.utils import plot_model\n",
    "from tensorflow.keras.models import Model\n",
    "from tensorflow.keras.layers import Input\n",
    "from tensorflow.keras.layers import Dense, LSTM,Embedding, Dropout\n",
    "from keras.layers.merge import add\n",
    "from keras.callbacks import ModelCheckpoint"
   ]
  },
  {
   "cell_type": "code",
   "execution_count": 3,
   "id": "4b5cbe0e",
   "metadata": {},
   "outputs": [],
   "source": [
    "def load_pickle(filename):\n",
    "    obj = pickle.load(open(filename + '.pkl', 'rb'))\n",
    "    return obj"
   ]
  },
  {
   "cell_type": "code",
   "execution_count": 4,
   "id": "4d334a1e",
   "metadata": {},
   "outputs": [],
   "source": [
    "tokenizer = load_pickle('tokenizer')\n",
    "max_length = load_pickle('max_length')\n",
    "vocab_size = len(tokenizer.word_index) + 1"
   ]
  },
  {
   "cell_type": "code",
   "execution_count": 5,
   "id": "4f6ff806",
   "metadata": {},
   "outputs": [],
   "source": [
    "def create_sequences(caption_list, tokenizer, max_length, vocab_size, encoding):\n",
    "    x1 = []\n",
    "    x2 = []\n",
    "    y = []\n",
    "    for caption in caption_list:\n",
    "        sequences = tokenizer.texts_to_sequences([caption])[0]\n",
    "        for i in range(1, len(sequences)):\n",
    "            in_seq, out_seq = sequences[:i], sequences[i]\n",
    "            in_seq = pad_sequences([in_seq], maxlen=max_length)[0]\n",
    "            out_seq = to_categorical([out_seq], num_classes=vocab_size)[0]\n",
    "#                 print(in_seq, out_seq, encodings[name][0])\n",
    "            x1.append(encoding)\n",
    "            x2.append(in_seq)\n",
    "            y.append(out_seq)\n",
    "    \n",
    "    return np.array(x1), np.array(x2), np.array(y)"
   ]
  },
  {
   "cell_type": "code",
   "execution_count": 6,
   "id": "c05a2685",
   "metadata": {},
   "outputs": [],
   "source": [
    "def data_generator(cap_dic, encodings, tokenizer, max_length, vocab_size):\n",
    "    # loop for ever over images\n",
    "    while 1:\n",
    "        for key, caption_list in cap_dic.items():\n",
    "            # retrieve the photo feature\n",
    "            encoding = encodings[key][0]\n",
    "            in_img, in_seq, out_word = create_sequences(caption_list,\n",
    "                                                        tokenizer,\n",
    "                                                        max_length,\n",
    "                                                        vocab_size,\n",
    "                                                        encoding)\n",
    "            yield [in_img, in_seq], out_word"
   ]
  },
  {
   "cell_type": "code",
   "execution_count": 7,
   "id": "517bec7f",
   "metadata": {},
   "outputs": [],
   "source": [
    "train_captions = load_pickle('train_captions')\n",
    "train_img_encodings = load_pickle('train_img_encodings')\n",
    "val_captions = load_pickle('val_captions')\n",
    "val_img_encodings = load_pickle('val_img_encodings')"
   ]
  },
  {
   "cell_type": "code",
   "execution_count": 8,
   "id": "5d5abf1a",
   "metadata": {},
   "outputs": [
    {
     "name": "stdout",
     "output_type": "stream",
     "text": [
      "(58, 4096)\n",
      "(58, 37)\n",
      "(58, 7984)\n",
      "(61, 4096)\n",
      "(61, 37)\n",
      "(61, 7984)\n"
     ]
    }
   ],
   "source": [
    "train_generator = data_generator(train_captions, train_img_encodings, tokenizer, max_length, vocab_size)\n",
    "val_generator = data_generator(val_captions, val_img_encodings, tokenizer, max_length, vocab_size)\n",
    "train_inputs, train_outputs = next(train_generator)\n",
    "val_inputs, val_outputs = next(val_generator)\n",
    "print(train_inputs[0].shape)\n",
    "print(train_inputs[1].shape)\n",
    "print(train_outputs.shape)\n",
    "print(val_inputs[0].shape)\n",
    "print(val_inputs[1].shape)\n",
    "print(val_outputs.shape)"
   ]
  },
  {
   "cell_type": "code",
   "execution_count": 9,
   "id": "ab9d59fd",
   "metadata": {},
   "outputs": [],
   "source": [
    "def define_model(vocab_size, max_length):\n",
    "    # feature extractor model\n",
    "    inputs1 = Input(shape=(4096,))\n",
    "    fe1 = Dropout(0.5)(inputs1)\n",
    "    fe2 = Dense(256, activation='relu')(fe1)\n",
    "    # sequence model\n",
    "    inputs2 = Input(shape=(max_length,))\n",
    "    se1 = Embedding(vocab_size, 256, mask_zero=True)(inputs2)\n",
    "    se2 = Dropout(0.5)(se1)\n",
    "    se3 = LSTM(256)(se2)\n",
    "    # decoder model\n",
    "    decoder1 = add([fe2, se3])\n",
    "    decoder2 = Dense(256, activation='relu')(decoder1)\n",
    "    outputs = Dense(vocab_size, activation='softmax')(decoder2)\n",
    "    # tie it together [image, seq] [word]\n",
    "    model = Model(inputs=[inputs1, inputs2], outputs=outputs)\n",
    "    # compile model\n",
    "    model.compile(loss='categorical_crossentropy', optimizer='adam')\n",
    "    # summarize model\n",
    "    model.summary()\n",
    "    plot_model(model, to_file='model.png', show_shapes=True)\n",
    "    return model"
   ]
  },
  {
   "cell_type": "code",
   "execution_count": 10,
   "id": "c597e40e",
   "metadata": {},
   "outputs": [
    {
     "name": "stdout",
     "output_type": "stream",
     "text": [
      "Model: \"model\"\n",
      "__________________________________________________________________________________________________\n",
      " Layer (type)                   Output Shape         Param #     Connected to                     \n",
      "==================================================================================================\n",
      " input_2 (InputLayer)           [(None, 37)]         0           []                               \n",
      "                                                                                                  \n",
      " input_1 (InputLayer)           [(None, 4096)]       0           []                               \n",
      "                                                                                                  \n",
      " embedding (Embedding)          (None, 37, 256)      2043904     ['input_2[0][0]']                \n",
      "                                                                                                  \n",
      " dropout (Dropout)              (None, 4096)         0           ['input_1[0][0]']                \n",
      "                                                                                                  \n",
      " dropout_1 (Dropout)            (None, 37, 256)      0           ['embedding[0][0]']              \n",
      "                                                                                                  \n",
      " dense (Dense)                  (None, 256)          1048832     ['dropout[0][0]']                \n",
      "                                                                                                  \n",
      " lstm (LSTM)                    (None, 256)          525312      ['dropout_1[0][0]']              \n",
      "                                                                                                  \n",
      " add (Add)                      (None, 256)          0           ['dense[0][0]',                  \n",
      "                                                                  'lstm[0][0]']                   \n",
      "                                                                                                  \n",
      " dense_1 (Dense)                (None, 256)          65792       ['add[0][0]']                    \n",
      "                                                                                                  \n",
      " dense_2 (Dense)                (None, 7984)         2051888     ['dense_1[0][0]']                \n",
      "                                                                                                  \n",
      "==================================================================================================\n",
      "Total params: 5,735,728\n",
      "Trainable params: 5,735,728\n",
      "Non-trainable params: 0\n",
      "__________________________________________________________________________________________________\n"
     ]
    }
   ],
   "source": [
    "model = define_model(vocab_size, max_length)"
   ]
  },
  {
   "cell_type": "code",
   "execution_count": 11,
   "id": "06e3ad37",
   "metadata": {
    "scrolled": false
   },
   "outputs": [
    {
     "name": "stdout",
     "output_type": "stream",
     "text": [
      "6473/6473 [==============================] - 977s 150ms/step - loss: 4.1318 - val_loss: 3.6123\n"
     ]
    },
    {
     "name": "stderr",
     "output_type": "stream",
     "text": [
      "D:\\Anaconda\\envs\\image_caption\\lib\\site-packages\\keras\\engine\\functional.py:1410: CustomMaskWarning: Custom mask layers require a config and must override get_config. When loading, the custom mask layer must be passed to the custom_objects argument.\n",
      "  layer_config = serialize_layer_fn(layer)\n"
     ]
    },
    {
     "name": "stdout",
     "output_type": "stream",
     "text": [
      "6473/6473 [==============================] - 1010s 156ms/step - loss: 3.4069 - val_loss: 3.4545\n",
      "6473/6473 [==============================] - 978s 151ms/step - loss: 3.1911 - val_loss: 3.4199\n",
      "6473/6473 [==============================] - 968s 150ms/step - loss: 3.0672 - val_loss: 3.4363\n",
      "6473/6473 [==============================] - 954s 147ms/step - loss: 2.9708 - val_loss: 3.4396\n",
      "6473/6473 [==============================] - 955s 148ms/step - loss: 2.9184 - val_loss: 3.4749\n",
      "6473/6473 [==============================] - 979s 151ms/step - loss: 2.8700 - val_loss: 3.4897\n",
      "6473/6473 [==============================] - 996s 154ms/step - loss: 2.8336 - val_loss: 3.5541\n",
      "6473/6473 [==============================] - 974s 150ms/step - loss: 2.8107 - val_loss: 3.5530\n",
      "6473/6473 [==============================] - 989s 153ms/step - loss: 2.7878 - val_loss: 3.6105\n",
      "6473/6473 [==============================] - 985s 152ms/step - loss: 2.7888 - val_loss: 3.6295\n",
      "6473/6473 [==============================] - 979s 151ms/step - loss: 2.7613 - val_loss: 3.6708\n",
      "6473/6473 [==============================] - 990s 153ms/step - loss: 2.7469 - val_loss: 3.7015\n",
      "6473/6473 [==============================] - 968s 150ms/step - loss: 2.7417 - val_loss: 3.7075\n",
      "6473/6473 [==============================] - 970s 150ms/step - loss: 2.7354 - val_loss: 3.7054\n",
      "6473/6473 [==============================] - 982s 152ms/step - loss: 2.8049 - val_loss: 3.7661\n",
      "6473/6473 [==============================] - 989s 153ms/step - loss: 2.7323 - val_loss: 3.7708\n",
      "6473/6473 [==============================] - 990s 153ms/step - loss: 2.7261 - val_loss: 3.8035\n",
      "6473/6473 [==============================] - 973s 150ms/step - loss: 2.7234 - val_loss: 3.8123\n",
      "6473/6473 [==============================] - 993s 153ms/step - loss: 2.7174 - val_loss: 3.8237\n"
     ]
    }
   ],
   "source": [
    "# train the model, run epochs manually and save after each epoch\n",
    "epochs = 20\n",
    "train_steps = len(train_captions)\n",
    "val_steps = len(val_captions)\n",
    "acc = []\n",
    "val_acc = []\n",
    "loss = []\n",
    "val_loss = []\n",
    "\n",
    "for i in range(epochs):\n",
    "    # create the data generator\n",
    "    generator = data_generator(train_captions, train_img_encodings, tokenizer, max_length, vocab_size)\n",
    "    # fit for one epoch\n",
    "    history = model.fit(train_generator, epochs=1, \n",
    "                        steps_per_epoch=train_steps, \n",
    "                        verbose=1, validation_data=(val_generator), \n",
    "                        validation_steps=val_steps)\n",
    "    loss.append(history.history['loss'])\n",
    "    val_loss.append(history.history['val_loss'])\n",
    "    # save model\n",
    "    model.save('model_' + str(i) + '.h5')"
   ]
  },
  {
   "cell_type": "code",
   "execution_count": 39,
   "id": "48f0645d",
   "metadata": {},
   "outputs": [
    {
     "data": {
      "image/png": "[encoded data removed]",
      "text/plain": [
       "<Figure size 432x288 with 1 Axes>"
      ]
     },
     "metadata": {
      "needs_background": "light"
     },
     "output_type": "display_data"
    }
   ],
   "source": [
    "plt.plot([epoch for epoch in range(epochs )], loss, 'b', label='Training Loss')\n",
    "plt.plot([epoch for epoch in range(epochs )], val_loss, 'r', label='Validation Loss')\n",
    "plt.title('Training and validation loss')\n",
    "plt.legend()\n",
    "plt.show()"
   ]
  },
  {
   "cell_type": "code",
   "execution_count": 8,
   "id": "ab225cd8",
   "metadata": {},
   "outputs": [],
   "source": [
    "def generate_captions(model, img_encoding, tokenizer, max_length):\n",
    "    \n",
    "    caption = 'sos'\n",
    "    for _ in range(max_length):\n",
    "        seq = tokenizer.texts_to_sequences([caption])[0]\n",
    "        seq = pad_sequences([seq], maxlen=max_length)\n",
    "        yhat = model.predict([img_encoding, seq])\n",
    "        yhat = np.argmax(yhat)\n",
    "        pred_word = idx_word_dic[yhat]\n",
    "        if pred_word == None:\n",
    "            break\n",
    "        caption += \" \" + pred_word\n",
    "        if pred_word == 'eos':\n",
    "            break\n",
    "    return caption"
   ]
  },
  {
   "cell_type": "code",
   "execution_count": 9,
   "id": "f764adb4",
   "metadata": {},
   "outputs": [],
   "source": [
    "def evaluate_model(model, cap_dic, img_encodings, tokenizer, max_length):\n",
    "    \n",
    "    actual = []\n",
    "    prediction = []\n",
    "\n",
    "    for name, cap_list in cap_dic.items():\n",
    "        img_encoding = img_encodings[name]\n",
    "        predict_caption = generate_captions(model, img_encoding, tokenizer, max_length)\n",
    "        prediction.append(predict_caption.split())\n",
    "        actual.append([caption.split() for caption in cap_list])\n",
    "    \n",
    "    bleu_1 = corpus_bleu(actual, prediction, weights=(1.0, 0, 0, 0))\n",
    "    bleu_2 = corpus_bleu(actual, prediction, weights=(0.5, 0.5, 0, 0))\n",
    "    bleu_3 = corpus_bleu(actual, prediction, weights=(0.3, 0.3, 0.3, 0))\n",
    "    bleu_4 = corpus_bleu(actual, prediction, weights=(0.25, 0.25, 0.25, 0.25))\n",
    "    print('BLEU-1: %f' % bleu_1)\n",
    "    print('BLEU-2: %f' % bleu_2)\n",
    "    print('BLEU-3: %f' % bleu_3)\n",
    "    print('BLEU-4: %f' % bleu_4)\n",
    "    \n",
    "    return bleu_1,bleu_2, bleu_3, bleu_4"
   ]
  },
  {
   "cell_type": "code",
   "execution_count": 12,
   "id": "ae9e9373",
   "metadata": {},
   "outputs": [],
   "source": [
    "train_img_encodings = load_pickle('train_img_encodings')\n",
    "val_img_encodings = load_pickle('val_img_encodings')\n",
    "idx_word_dic = load_pickle('idx_word_dic')\n",
    "model = load_model('model_5.h5')"
   ]
  },
  {
   "cell_type": "code",
   "execution_count": 13,
   "id": "843c68ed",
   "metadata": {},
   "outputs": [
    {
     "name": "stdout",
     "output_type": "stream",
     "text": [
      "BLEU-1: 0.593264\n",
      "BLEU-2: 0.388168\n",
      "BLEU-3: 0.282108\n",
      "BLEU-4: 0.155887\n"
     ]
    },
    {
     "data": {
      "text/plain": [
       "(0.5932640848188869,\n",
       " 0.38816833454536365,\n",
       " 0.282107744271803,\n",
       " 0.1558868236862933)"
      ]
     },
     "execution_count": 13,
     "metadata": {},
     "output_type": "execute_result"
    }
   ],
   "source": [
    "evaluate_model(model, train_captions, train_img_encodings, tokenizer, max_length)"
   ]
  },
  {
   "cell_type": "code",
   "execution_count": 15,
   "id": "f6f288fe",
   "metadata": {},
   "outputs": [
    {
     "name": "stdout",
     "output_type": "stream",
     "text": [
      "BLEU-1: 0.589280\n",
      "BLEU-2: 0.379054\n",
      "BLEU-3: 0.271602\n",
      "BLEU-4: 0.146975\n"
     ]
    },
    {
     "data": {
      "text/plain": [
       "(0.5892802915274825,\n",
       " 0.3790537404064232,\n",
       " 0.271601605915663,\n",
       " 0.14697464894466833)"
      ]
     },
     "execution_count": 15,
     "metadata": {},
     "output_type": "execute_result"
    }
   ],
   "source": [
    "evaluate_model(model, val_captions, val_img_encodings, tokenizer, max_length)"
   ]
  },
  {
   "cell_type": "code",
   "execution_count": null,
   "id": "09de9dcd",
   "metadata": {},
   "outputs": [],
   "source": []
  },
  {
   "cell_type": "code",
   "execution_count": null,
   "id": "600535e3",
   "metadata": {},
   "outputs": [],
   "source": []
  }
 ],
 "metadata": {
  "kernelspec": {
   "display_name": "image_caption",
   "language": "python",
   "name": "image_caption"
  },
  "language_info": {
   "codemirror_mode": {
    "name": "ipython",
    "version": 3
   },
   "file_extension": ".py",
   "mimetype": "text/x-python",
   "name": "python",
   "nbconvert_exporter": "python",
   "pygments_lexer": "ipython3",
   "version": "3.9.7"
  }
 },
 "nbformat": 4,
 "nbformat_minor": 5
}
